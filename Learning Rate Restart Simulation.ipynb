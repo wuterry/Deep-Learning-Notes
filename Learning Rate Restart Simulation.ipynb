{
 "cells": [
  {
   "cell_type": "code",
   "execution_count": 9,
   "metadata": {},
   "outputs": [],
   "source": [
    "import matplotlib\n",
    "import numpy as np\n",
    "from math import cos, pi\n",
    "import matplotlib.pyplot as plt\n",
    "import pdb\n",
    "%matplotlib inline"
   ]
  },
  {
   "cell_type": "markdown",
   "metadata": {},
   "source": [
    "# define scheduler of learing rate"
   ]
  },
  {
   "cell_type": "code",
   "execution_count": 10,
   "metadata": {},
   "outputs": [],
   "source": [
    "class LearningRateScheduler(object):\n",
    "    def __init__(self, base_lr, final_lr, max_steps, steps, warmup_steps, lr_scale=1.0):\n",
    "        self.base_lr = base_lr\n",
    "        self.final_lr = final_lr\n",
    "        self.max_steps = max_steps\n",
    "        self.warmup_steps = warmup_steps\n",
    "        self.lr_scale = lr_scale\n",
    "        self.steps = [warmup_steps] + steps\n",
    "        self.left = 0\n",
    "        self.right = 0\n",
    "\n",
    "    def update(self, step):\n",
    "        # warmup\n",
    "        if step < self.warmup_steps:\n",
    "            new_lr = self.final_lr + (self.base_lr - self.final_lr) / self.warmup_steps * step\n",
    "\n",
    "        # learning rate restart\n",
    "        else:\n",
    "            if step in self.steps[1:]:\n",
    "                self.base_lr *= self.lr_scale\n",
    "\n",
    "            for i in range(len(self.steps) - 1):\n",
    "                self.left = self.steps[i]\n",
    "                self.right = self.steps[i + 1]\n",
    "                if self.steps[i] <= step < self.steps[i + 1]:\n",
    "                    break\n",
    "                elif step > self.steps[-1]:\n",
    "                    return self.final_lr\n",
    "\n",
    "            new_lr = self.final_lr + (self.base_lr - self.final_lr) * \\\n",
    "                     (1 + cos(pi * (step - self.left) / (self.right - self.left))) / 2\n",
    "        return new_lr"
   ]
  },
  {
   "cell_type": "code",
   "execution_count": 11,
   "metadata": {
    "run_control": {
     "marked": true
    }
   },
   "outputs": [],
   "source": [
    "def plot_curve(lr_list):\n",
    "    plt.figure()\n",
    "    plt.plot(lr_list, lw=3)\n",
    "    plt.xlabel(\"epoch\")\n",
    "    plt.ylabel(\"learning rate\")\n",
    "    plt.tight_layout()\n",
    "    plt.grid()\n",
    "#     plt.savefig(\"learning rate vs epoch.png\")\n",
    "    plt.show()"
   ]
  },
  {
   "cell_type": "markdown",
   "metadata": {},
   "source": [
    "# Main"
   ]
  },
  {
   "cell_type": "code",
   "execution_count": 15,
   "metadata": {},
   "outputs": [
    {
     "data": {
      "image/png": "[encoded data removed]",
      "text/plain": [
       "<Figure size 432x288 with 1 Axes>"
      ]
     },
     "metadata": {},
     "output_type": "display_data"
    },
    {
     "name": "stdout",
     "output_type": "stream",
     "text": [
      "Minimun learning rate: 0.0001\n"
     ]
    }
   ],
   "source": [
    "def main():\n",
    "    base_lr   = 0.5\n",
    "    final_lr  = 0.0001\n",
    "    max_steps = 7000\n",
    "    milestore_steps = [3000, 4000, 5000, 5500, 6000, 6500]\n",
    "    warmup_step = 500\n",
    "    lr_scale = 0.7\n",
    "\n",
    "    schedule = LearningRateScheduler(\n",
    "        base_lr=base_lr,\n",
    "        final_lr=final_lr,\n",
    "        steps = milestore_steps,\n",
    "        max_steps = max_steps,\n",
    "        warmup_steps=warmup_step,\n",
    "        lr_scale=lr_scale)\n",
    "\n",
    "    lr_list = []\n",
    "    for step in range(max_steps):\n",
    "        new_lr = schedule.update(step)\n",
    "        lr_list.append(new_lr)\n",
    "\n",
    "    plot_curve(lr_list)\n",
    "    print(\"Minimun learning rate:\", lr_list[-1])\n",
    "\n",
    "if __name__ == '__main__':\n",
    "    main()"
   ]
  },
  {
   "cell_type": "code",
   "execution_count": null,
   "metadata": {},
   "outputs": [],
   "source": []
  },
  {
   "cell_type": "code",
   "execution_count": null,
   "metadata": {},
   "outputs": [],
   "source": []
  }
 ],
 "metadata": {
  "kernelspec": {
   "display_name": "Python 3",
   "language": "python",
   "name": "python3"
  },
  "language_info": {
   "codemirror_mode": {
    "name": "ipython",
    "version": 3
   },
   "file_extension": ".py",
   "mimetype": "text/x-python",
   "name": "python",
   "nbconvert_exporter": "python",
   "pygments_lexer": "ipython3",
   "version": "3.6.8"
  },
  "latex_envs": {
   "LaTeX_envs_menu_present": true,
   "autoclose": false,
   "autocomplete": true,
   "bibliofile": "biblio.bib",
   "cite_by": "apalike",
   "current_citInitial": 1,
   "eqLabelWithNumbers": true,
   "eqNumInitial": 1,
   "hotkeys": {
    "equation": "Ctrl-E",
    "itemize": "Ctrl-I"
   },
   "labels_anchors": false,
   "latex_user_defs": false,
   "report_style_numbering": true,
   "user_envs_cfg": false
  },
  "toc": {
   "nav_menu": {},
   "number_sections": true,
   "sideBar": true,
   "skip_h1_title": false,
   "toc_cell": false,
   "toc_position": {},
   "toc_section_display": "block",
   "toc_window_display": false
  }
 },
 "nbformat": 4,
 "nbformat_minor": 2
}
