{
 "cells": [
  {
   "cell_type": "code",
   "execution_count": null,
   "metadata": {},
   "outputs": [],
   "source": [
    "import matplotlib\n",
    "from math import cos, pi\n",
    "\n",
    "%matplotlib inline\n",
    "\n",
    "class LearningRateScheduler(object):\n",
    "    def __init__(self, base_lr, max_epochs, warmup_epochs):\n",
    "        self.base_lr = base_lr\n",
    "        self.final_lr = base_lr * 1e-4\n",
    "        self.max_epochs = max_epochs\n",
    "        self.warmup_epochs = warmup_epochs\n",
    "        \n",
    "    def update(self, epoch, accuracy_list):\n",
    "        # warmup\n",
    "        if epoch < self.warmup_epochs:\n",
    "            new_lr = self.final_lr + (self.base_lr - self.final_lr) / self.warmup_epochs\n",
    "        \n",
    "        # learning rate restart\n",
    "        else:\n",
    "            new_lr = self.final_lr + (self.base_lr - self.final_lr) * \\\n",
    "            (1 - cos(pi * (epoch - warmup_epoches)))"
   ]
  }
 ],
 "metadata": {
  "kernelspec": {
   "display_name": "Python 3",
   "language": "python",
   "name": "python3"
  },
  "language_info": {
   "codemirror_mode": {
    "name": "ipython",
    "version": 3
   },
   "file_extension": ".py",
   "mimetype": "text/x-python",
   "name": "python",
   "nbconvert_exporter": "python",
   "pygments_lexer": "ipython3",
   "version": "3.6.8"
  },
  "latex_envs": {
   "LaTeX_envs_menu_present": true,
   "autoclose": false,
   "autocomplete": true,
   "bibliofile": "biblio.bib",
   "cite_by": "apalike",
   "current_citInitial": 1,
   "eqLabelWithNumbers": true,
   "eqNumInitial": 1,
   "hotkeys": {
    "equation": "Ctrl-E",
    "itemize": "Ctrl-I"
   },
   "labels_anchors": false,
   "latex_user_defs": false,
   "report_style_numbering": true,
   "user_envs_cfg": false
  },
  "toc": {
   "nav_menu": {},
   "number_sections": true,
   "sideBar": true,
   "skip_h1_title": false,
   "toc_cell": false,
   "toc_position": {},
   "toc_section_display": "block",
   "toc_window_display": false
  }
 },
 "nbformat": 4,
 "nbformat_minor": 2
}
