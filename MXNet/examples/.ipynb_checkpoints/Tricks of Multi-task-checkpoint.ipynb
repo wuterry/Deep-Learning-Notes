{
 "cells": [
  {
   "cell_type": "markdown",
   "metadata": {},
   "source": [
    "# 如何生成 *.rec 文件\n",
    "以性别、年龄两种属性的 multi-task 为例\n",
    "\n",
    "1. 首先生成 attr_train.lst 和 attr_valid.lst，每一条记录的格式为\n",
    "```\n",
    "# id    gender_label  age     filename\n",
    " 342         0       32    data/aa.png\n",
    "```\n",
    "2. 生成 *.rec 文件\n",
    "```\n",
    "python im2rec.py --train-ratio=1 --num-thread=24 --pack-label=1 attr_train.lst  data_root\n",
    "python im2rec.py --train-ratio=1 --num-thread=24 --pack-label=1 attr_train.lst  data_root\n",
    "```\n",
    "其中 --pack-label=1 是必须要设定的，表示有多个标签需要 pack。"
   ]
  },
  {
   "cell_type": "markdown",
   "metadata": {},
   "source": [
    "# 构建 DataIter 迭代器 "
   ]
  },
  {
   "cell_type": "code",
   "execution_count": 2,
   "metadata": {},
   "outputs": [],
   "source": [
    "import mxnet as mx\n",
    "\n",
    "class custom_iter(mx.io.DataIter):\n",
    "    def __init__(self, data_iter, label_names=None):\n",
    "        super().__init__()\n",
    "        self.data_iter = data_iter\n",
    "        self.batch_size = self.data_iter.batch_size\n",
    "        self.label_names = label_names     # label_names = ['softmax_label', 'focal_label']\n",
    "    \n",
    "    @property\n",
    "    def provide_data(self):\n",
    "        return self.data_iter.provide_data\n",
    "    \n",
    "    @property\n",
    "    def provide_label(self):\n",
    "        provide_label = self.data_iter.provide_label[0]\n",
    "        return [(self.label_names[0], [provide_label[1][0]]),\n",
    "                (self.label_names[1], [provide_label[1][0]])]\n",
    "    \n",
    "    def hard_reset(self):\n",
    "        self.data_iter.hard_reset()\n",
    "    \n",
    "    def reset(self):\n",
    "        self.data_iter.reset()\n",
    "    \n",
    "    def next(self):\n",
    "        batch = self.data_iter.next()\n",
    "        label = batch.label[0].asnumpy()\n",
    "        label1 = mx.nd.array(label[:, 0]).astype('float32')   # label of gender\n",
    "        label2 = mx.nd.array(label[:, 1]).astype('float32')   # label of age\n",
    "        return mx.io.DataBatch(data=batch.data, label=[label1, label2], pad=batch.pad, index=batch.index)"
   ]
  },
  {
   "cell_type": "markdown",
   "metadata": {},
   "source": [
    "# 构建评价指标"
   ]
  },
  {
   "cell_type": "code",
   "execution_count": 4,
   "metadata": {
    "run_control": {
     "marked": true
    }
   },
   "outputs": [],
   "source": [
    "import mxnet as mx\n",
    "import numpy as np\n",
    "\n",
    "class MultiMetric(mx.metric.EvalMetric):\n",
    "    def __init__(self, num=2):\n",
    "        super().__init__('multi-task')\n",
    "        self.num = num\n",
    "    \n",
    "    def get(self):\n",
    "        \"\"\"get the current evaluation name and result\"\"\"\n",
    "        if self.num == 2:\n",
    "            names = ['%s_%s' % (self.name, i) for i in ['gender-acc', 'age-mse']]\n",
    "        values = [x/y if y != 0 else float('nan') for x, y in zip(self.sum_metric, self.num_inst)]\n",
    "        return names, values   \n",
    "    \n",
    "    def reset(self):\n",
    "        \"\"\"override reset behaviors\"\"\"\n",
    "        if getattr(self, 'num', None) is None:\n",
    "            self.num_inst = 0\n",
    "            self.sum_metric = 0.0\n",
    "        else:\n",
    "            self.num_inst = [0] * self.num\n",
    "            self.sum_metric = [0.0] * self.num\n",
    "    \n",
    "    def update(self, labels, preds):\n",
    "        mx.metric.check_label_shapes(labels, preds)\n",
    "        if self.num is None:\n",
    "            assert len(labels) == self.num\n",
    "            \n",
    "        for i in range(len(labels)):\n",
    "            pred = mx.nd.argmax_channel(preds[i].asnumpy().astype('int32'))\n",
    "            label = labels[i].asnumpy().astype('int32')\n",
    "            mx.metric.check_label_shapes(label, pred)\n",
    "            \n",
    "            if i is None:\n",
    "                self.sum_metric += (pred.flat == label.flat).sum()\n",
    "                self.num_inst += len(pred.flat)\n",
    "            else:\n",
    "                if i == 0:\n",
    "                    # accuracy\n",
    "                    self.sum_metric[i] += (pred.flat == label.flat).sum()\n",
    "                    self.num_inst[i] += len(pred.flat)\n",
    "                else:\n",
    "                    # mse\n",
    "                    self.sum_metric[i] += np.sum(np.power(label - pred, 2))\n",
    "                    self.num_inst[i] += len(pred.flat)                    "
   ]
  },
  {
   "cell_type": "markdown",
   "metadata": {},
   "source": [
    "# 转换 Training Model 为 Deploy Model"
   ]
  },
  {
   "cell_type": "code",
   "execution_count": null,
   "metadata": {
    "collapsed": true
   },
   "outputs": [],
   "source": [
    "def get_new_arguments(net, arg_params, aux_params):\n",
    "    arg_names = net.list_arguments()\n",
    "    new_args = dict()\n",
    "    new_auxs = dict()\n",
    "    for k, v in arg_params.items():\n",
    "        if k in arg_names:\n",
    "            new_args[k] = v\n",
    "    for k, v in aux_params.items():\n",
    "        new_auxs[k] = v\n",
    "    return new_args, new_auxs\n",
    "\n",
    "def convert_model(model_path, deploy_path, optimal_epoch=0):\n",
    "    model_prefix = model_path + 'mobilenet'\n",
    "    save_prefix = deploy_path + '/mobilenet'\n",
    "    save_epoch = optimal_epoch\n",
    "    sym, arg_params, aux_params = mx.model.load_checkpoints(model_prefix, optimal_epoch)\n",
    "    all_layers = sym.get_internals()\n",
    "    net1 = all_layers['fc1_output']    # gender\n",
    "    net2 = all_layers['fc2_output']    # age\n",
    "    net = mx.symbol.Group(net1, net2)  # merge gender and age\n",
    "    new_arg_params, new_aux_params = get_new_arguments(net, arg_params, aux_params)\n",
    "    save_callback = mx.callback.do_chackpoint(save_prefix)\n",
    "    save_callback(save_epoch, net, new_arg_params, new_aux_params)\n",
    "    \n",
    "    # # Way 2\n",
    "    # new_arg_params, new_aux_params = get_new_arguments(net, arg_params, aux_params)\n",
    "    # mx.model.save_checkpoint(save_prefix, save_epoch, net, new_arg_params, new_aux_params)"
   ]
  }
 ],
 "metadata": {
  "kernelspec": {
   "display_name": "Python 3",
   "language": "python",
   "name": "python3"
  },
  "language_info": {
   "codemirror_mode": {
    "name": "ipython",
    "version": 3
   },
   "file_extension": ".py",
   "mimetype": "text/x-python",
   "name": "python",
   "nbconvert_exporter": "python",
   "pygments_lexer": "ipython3",
   "version": "3.6.2"
  },
  "latex_envs": {
   "LaTeX_envs_menu_present": true,
   "autoclose": false,
   "autocomplete": true,
   "bibliofile": "biblio.bib",
   "cite_by": "apalike",
   "current_citInitial": 1,
   "eqLabelWithNumbers": true,
   "eqNumInitial": 1,
   "hotkeys": {
    "equation": "Ctrl-E",
    "itemize": "Ctrl-I"
   },
   "labels_anchors": false,
   "latex_user_defs": false,
   "report_style_numbering": true,
   "user_envs_cfg": false
  },
  "toc": {
   "nav_menu": {},
   "number_sections": true,
   "sideBar": true,
   "skip_h1_title": false,
   "toc_cell": false,
   "toc_position": {},
   "toc_section_display": "block",
   "toc_window_display": false
  }
 },
 "nbformat": 4,
 "nbformat_minor": 2
}
