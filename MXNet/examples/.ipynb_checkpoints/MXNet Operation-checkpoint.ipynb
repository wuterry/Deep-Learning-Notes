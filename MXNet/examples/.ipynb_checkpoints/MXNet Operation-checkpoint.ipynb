{
 "cells": [
  {
   "cell_type": "markdown",
   "metadata": {},
   "source": [
    "# 1x1 Convolution"
   ]
  },
  {
   "cell_type": "code",
   "execution_count": 2,
   "metadata": {},
   "outputs": [
    {
     "name": "stdout",
     "output_type": "stream",
     "text": [
      "Input: \n",
      "[[[[  0.   1.]\n",
      "   [  2.   3.]]\n",
      "\n",
      "  [[  4.   5.]\n",
      "   [  6.   7.]]\n",
      "\n",
      "  [[  8.   9.]\n",
      "   [ 10.  11.]]]]\n",
      "<NDArray 1x3x2x2 @cpu(0)> \n",
      "\n",
      "Weight: \n",
      "[[[[ 0.]]\n",
      "\n",
      "  [[ 1.]]\n",
      "\n",
      "  [[ 2.]]]\n",
      "\n",
      "\n",
      " [[[ 3.]]\n",
      "\n",
      "  [[ 4.]]\n",
      "\n",
      "  [[ 5.]]]]\n",
      "<NDArray 2x3x1x1 @cpu(0)> \n",
      "\n",
      "Bias: \n",
      "[ 0.  0.]\n",
      "<NDArray 2 @cpu(0)>\n"
     ]
    }
   ],
   "source": [
    "import numpy as np\n",
    "from mxnet import nd\n",
    "\n",
    "# Data format: [batch, channel, height, width]\n",
    "# Weight format: [output_channels, in_channels, height, width]\n",
    "num_filter   = 2\n",
    "img_shape    = (1, 3, 2, 2)\n",
    "weight_shape = (num_filter, img_shape[1], 1, 1)\n",
    "\n",
    "data = nd.arange(img_shape[0]*img_shape[1]*img_shape[2]*img_shape[3]).reshape(img_shape)\n",
    "weight = nd.arange(weight_shape[0] * weight_shape[1] * weight_shape[2] * weight_shape[3]).reshape(weight_shape)\n",
    "bias = nd.zeros(num_filter)\n",
    "\n",
    "print('Input:', data, '\\n\\nWeight:', weight, '\\n\\nBias:', bias)"
   ]
  },
  {
   "cell_type": "code",
   "execution_count": 3,
   "metadata": {},
   "outputs": [
    {
     "name": "stdout",
     "output_type": "stream",
     "text": [
      "Output of standard convolution:\n",
      " \n",
      "[[[[ 20.  23.]\n",
      "   [ 26.  29.]]\n",
      "\n",
      "  [[ 56.  68.]\n",
      "   [ 80.  92.]]]]\n",
      "<NDArray 1x2x2x2 @cpu(0)>\n"
     ]
    }
   ],
   "source": [
    "conv = nd.Convolution(data, weight=weight, bias=bias, kernel=weight.shape[2:], num_filter=weight.shape[0])\n",
    "print(\"Output of 1x1 convolution:\\n\", conv)"
   ]
  },
  {
   "cell_type": "markdown",
   "metadata": {},
   "source": [
    "# Flatten"
   ]
  },
  {
   "cell_type": "code",
   "execution_count": 5,
   "metadata": {},
   "outputs": [
    {
     "name": "stdout",
     "output_type": "stream",
     "text": [
      "Tensor \n",
      "[[[[  0.   1.]\n",
      "   [  2.   3.]]\n",
      "\n",
      "  [[  4.   5.]\n",
      "   [  6.   7.]]\n",
      "\n",
      "  [[  8.   9.]\n",
      "   [ 10.  11.]]]]\n",
      "<NDArray 1x3x2x2 @cpu(0)>\n",
      "Flatten \n",
      "[[  0.   1.   2.   3.   4.   5.   6.   7.   8.   9.  10.  11.]]\n",
      "<NDArray 1x12 @cpu(0)>\n"
     ]
    }
   ],
   "source": [
    "tensor = nd.arange(12).reshape((1, 3, 2, 2))\n",
    "print(\"Tensor\", tensor)\n",
    "\n",
    "flattened = nd.Flatten(tensor)\n",
    "print(\"Flatten\", flattened)\n"
   ]
  },
  {
   "cell_type": "markdown",
   "metadata": {
    "collapsed": true
   },
   "source": [
    "# Convolution"
   ]
  },
  {
   "cell_type": "markdown",
   "metadata": {},
   "source": [
    "## stride\n",
    "若 $ input.size = (M, N), kernel.size=(m,n), stride=(s, s), pad=(0, 0)$, 则输出特征图的大小为:"
   ]
  },
  {
   "cell_type": "code",
   "execution_count": 12,
   "metadata": {},
   "outputs": [
    {
     "name": "stdout",
     "output_type": "stream",
     "text": [
      "Input: \n",
      "[[[[  0.   1.   2.   3.   4.   5.   6.   7.   8.   9.  10.]]]]\n",
      "<NDArray 1x1x1x11 @cpu(0)> \n",
      "\n",
      "Weight: \n",
      "[[[[ 1.  1.  1.]]]]\n",
      "<NDArray 1x1x1x3 @cpu(0)> \n",
      "\n",
      "Bias: \n",
      "[ 0.]\n",
      "<NDArray 1 @cpu(0)>\n",
      "Output of convolution:\n",
      " \n",
      "[[[[  3.  12.  21.]]]]\n",
      "<NDArray 1x1x1x3 @cpu(0)>\n"
     ]
    }
   ],
   "source": [
    "import numpy as np\n",
    "from mxnet import nd\n",
    "\n",
    "# Data format: [batch, channel, height, width]\n",
    "# Weight format: [output_channels, in_channels, height, width]\n",
    "num_filter   = 1\n",
    "img_shape    = (1, 1, 1, 11)\n",
    "weight_shape = (num_filter, img_shape[1], 1, 3)\n",
    "\n",
    "data = nd.arange(img_shape[0]*img_shape[1]*img_shape[2]*img_shape[3]).reshape(img_shape)\n",
    "weight = nd.ones(weight_shape[0] * weight_shape[1] * weight_shape[2] * weight_shape[3]).reshape(weight_shape)\n",
    "bias = nd.zeros(num_filter)\n",
    "\n",
    "conv = nd.Convolution(data, weight=weight, bias=bias, kernel=weight.shape[2:], \\\n",
    "                      num_filter=weight.shape[0], stride=(3, 3), pad=(1, 1))\n",
    "\n",
    "\n",
    "print('Input:', data, '\\n\\nWeight:', weight, '\\n\\nBias:', bias)\n",
    "print(\"Output of convolution:\\n\", conv)"
   ]
  },
  {
   "cell_type": "code",
   "execution_count": null,
   "metadata": {
    "collapsed": true
   },
   "outputs": [],
   "source": []
  }
 ],
 "metadata": {
  "kernelspec": {
   "display_name": "Python 3",
   "language": "python",
   "name": "python3"
  },
  "language_info": {
   "codemirror_mode": {
    "name": "ipython",
    "version": 3
   },
   "file_extension": ".py",
   "mimetype": "text/x-python",
   "name": "python",
   "nbconvert_exporter": "python",
   "pygments_lexer": "ipython3",
   "version": "3.6.2"
  },
  "latex_envs": {
   "LaTeX_envs_menu_present": true,
   "autoclose": false,
   "autocomplete": true,
   "bibliofile": "biblio.bib",
   "cite_by": "apalike",
   "current_citInitial": 1,
   "eqLabelWithNumbers": true,
   "eqNumInitial": 1,
   "hotkeys": {
    "equation": "Ctrl-E",
    "itemize": "Ctrl-I"
   },
   "labels_anchors": false,
   "latex_user_defs": false,
   "report_style_numbering": true,
   "user_envs_cfg": false
  },
  "toc": {
   "nav_menu": {},
   "number_sections": true,
   "sideBar": true,
   "skip_h1_title": false,
   "toc_cell": false,
   "toc_position": {},
   "toc_section_display": "block",
   "toc_window_display": true
  }
 },
 "nbformat": 4,
 "nbformat_minor": 2
}
