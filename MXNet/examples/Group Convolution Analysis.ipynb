{
 "cells": [
  {
   "cell_type": "markdown",
   "metadata": {
    "toc": true
   },
   "source": [
    "<h1>Table of Contents<span class=\"tocSkip\"></span></h1>\n",
    "<div class=\"toc\" style=\"margin-top: 1em;\"><ul class=\"toc-item\"><li><span><a href=\"#Generate-Data\" data-toc-modified-id=\"Generate-Data-1\"><span class=\"toc-item-num\">1&nbsp;&nbsp;</span>Generate Data</a></span></li><li><span><a href=\"#Standard-Convolution\" data-toc-modified-id=\"Standard-Convolution-2\"><span class=\"toc-item-num\">2&nbsp;&nbsp;</span>Standard Convolution</a></span></li><li><span><a href=\"#Group-Convolution\" data-toc-modified-id=\"Group-Convolution-3\"><span class=\"toc-item-num\">3&nbsp;&nbsp;</span>Group Convolution</a></span><ul class=\"toc-item\"><li><span><a href=\"#NDArray-based\" data-toc-modified-id=\"NDArray-based-3.1\"><span class=\"toc-item-num\">3.1&nbsp;&nbsp;</span>NDArray-based</a></span></li><li><span><a href=\"#Symbol-based\" data-toc-modified-id=\"Symbol-based-3.2\"><span class=\"toc-item-num\">3.2&nbsp;&nbsp;</span>Symbol-based</a></span></li></ul></li></ul></div>"
   ]
  },
  {
   "cell_type": "markdown",
   "metadata": {},
   "source": [
    "# Generate Data"
   ]
  },
  {
   "cell_type": "code",
   "execution_count": 58,
   "metadata": {
    "run_control": {
     "marked": false
    }
   },
   "outputs": [
    {
     "name": "stdout",
     "output_type": "stream",
     "text": [
      "Input: \n",
      "[[[[  0.   1.]\n",
      "   [  2.   3.]]\n",
      "\n",
      "  [[  4.   5.]\n",
      "   [  6.   7.]]\n",
      "\n",
      "  [[  8.   9.]\n",
      "   [ 10.  11.]]]]\n",
      "<NDArray 1x3x2x2 @cpu(0)> \n",
      "\n",
      "Weight: \n",
      "[[[[ 0.]]\n",
      "\n",
      "  [[ 1.]]\n",
      "\n",
      "  [[ 2.]]]\n",
      "\n",
      "\n",
      " [[[ 3.]]\n",
      "\n",
      "  [[ 4.]]\n",
      "\n",
      "  [[ 5.]]]]\n",
      "<NDArray 2x3x1x1 @cpu(0)> \n",
      "\n",
      "Bias: \n",
      "[ 0.  0.]\n",
      "<NDArray 2 @cpu(0)>\n"
     ]
    }
   ],
   "source": [
    "import numpy as np\n",
    "from mxnet import nd\n",
    "\n",
    "# Data format: [batch, channel, height, width]\n",
    "# Weight format: [output_channels, in_channels, height, width]\n",
    "num_filter   = 2\n",
    "img_shape    = (1, 3, 2, 2)\n",
    "weight_shape = (num_filter, img_shape[1], 1, 1)\n",
    "\n",
    "data = nd.arange(img_shape[0]*img_shape[1]*img_shape[2]*img_shape[3]).reshape(img_shape)\n",
    "weight = nd.arange(weight_shape[0] * weight_shape[1] * weight_shape[2] * weight_shape[3]).reshape(weight_shape)\n",
    "bias = nd.zeros(num_filter)\n",
    "\n",
    "print('Input:', data, '\\n\\nWeight:', weight, '\\n\\nBias:', bias)"
   ]
  },
  {
   "cell_type": "markdown",
   "metadata": {
    "collapsed": true,
    "run_control": {
     "marked": true
    }
   },
   "source": [
    "# Standard Convolution"
   ]
  },
  {
   "cell_type": "code",
   "execution_count": 59,
   "metadata": {},
   "outputs": [
    {
     "name": "stdout",
     "output_type": "stream",
     "text": [
      "Output of standard convolution:\n",
      " \n",
      "[[[[ 20.  23.]\n",
      "   [ 26.  29.]]\n",
      "\n",
      "  [[ 56.  68.]\n",
      "   [ 80.  92.]]]]\n",
      "<NDArray 1x2x2x2 @cpu(0)>\n"
     ]
    }
   ],
   "source": [
    "conv = nd.Convolution(data, weight=weight, bias=bias, kernel=weight.shape[2:], num_filter=weight.shape[0])\n",
    "print(\"Output of standard convolution:\\n\", conv)"
   ]
  },
  {
   "cell_type": "markdown",
   "metadata": {},
   "source": [
    "# Group Convolution\n",
    "## NDArray-based\n",
    "注意: 首先需要调整 weight 的形状, 使满足 weight.shape[1] = 1, 从而 weight.shape[0] = in_channels * out_channels; \n",
    "\n",
    "num_group 应能被 in_channels 整除. 在本例中, data.shape = [1, 3, 2, 2], reshape 后的 weight.shape = [6, 1, 1, 1]. 若设置卷积中 num_group = 3, 则有 <br>\n",
    "$$ data[0] * \\{ weight[0], weight[1] \\} → \\{ out[0], out[1] \\}$$ \n",
    "$$ data[1] * \\{ weight[2], weight[3] \\} → \\{ out[2], out[3] \\}$$ \n",
    "$$ data[2] * \\{ weight[4], weight[5] \\} → \\{ out[4], out[5] \\}$$  "
   ]
  },
  {
   "cell_type": "code",
   "execution_count": 60,
   "metadata": {
    "run_control": {
     "marked": true
    }
   },
   "outputs": [
    {
     "name": "stdout",
     "output_type": "stream",
     "text": [
      "data   shape: (1, 3, 2, 2) \n",
      "weight shape: (2, 3, 1, 1)\n",
      "\n",
      "shape of reshaped weight: (6, 1, 1, 1) \n",
      "bias shape: (6,)\n",
      "\n",
      "Group Convolution Output: \n",
      "[[[[  0.   0.]\n",
      "   [  0.   0.]]\n",
      "\n",
      "  [[  0.   1.]\n",
      "   [  2.   3.]]\n",
      "\n",
      "  [[  8.  10.]\n",
      "   [ 12.  14.]]\n",
      "\n",
      "  [[ 12.  15.]\n",
      "   [ 18.  21.]]\n",
      "\n",
      "  [[ 32.  36.]\n",
      "   [ 40.  44.]]\n",
      "\n",
      "  [[ 40.  45.]\n",
      "   [ 50.  55.]]]]\n",
      "<NDArray 1x6x2x2 @cpu(0)>\n"
     ]
    }
   ],
   "source": [
    "in_channels  = data.shape[1]\n",
    "out_channels = weight.shape[0]\n",
    "num_kernels  = in_channels * out_channels\n",
    "print('data   shape:', data.shape, '\\nweight shape:', weight.shape)\n",
    " \n",
    "weight0 = weight.reshape((-1, 1, 0, 0))\n",
    "bias = nd.zeros(in_channels*out_channels)\n",
    "print('\\nshape of reshaped weight:', weight0.shape, '\\nbias shape:', bias.shape)\n",
    "\n",
    "conv = nd.Convolution(data, weight=weight0, bias=bias, kernel=weight.shape[2:],\n",
    "                      num_filter=num_kernels,\n",
    "                      num_group=3)\n",
    "print(\"\\nGroup Convolution Output:\", conv)"
   ]
  },
  {
   "cell_type": "markdown",
   "metadata": {
    "collapsed": true
   },
   "source": [
    "## Symbol-based\n",
    "卷积中需要满足: \n",
    "$$ input\\_channels = num\\_group * weight\\_channels $$\n",
    "即\n",
    "$$ num\\_group = \\frac{input.shape[1]}{weight.shape[1]} $$"
   ]
  },
  {
   "cell_type": "code",
   "execution_count": 62,
   "metadata": {
    "run_control": {
     "marked": true
    }
   },
   "outputs": [
    {
     "name": "stdout",
     "output_type": "stream",
     "text": [
      "num-group = 1\n",
      "Shape of parameters:\n",
      "data\t(1, 6, 256, 256)\n",
      "conv_weight\t(24, 6, 3, 3)\n",
      "conv_bias\t(24,)\n",
      "\n",
      "Shape of feature maps:\n",
      "{'conv_output': (1, 24, 254, 254)}\n",
      "\n",
      "***********************************\n",
      "num-group = 2\n",
      "Shape of parameters:\n",
      "data\t(1, 6, 256, 256)\n",
      "conv_weight\t(24, 3, 3, 3)\n",
      "conv_bias\t(24,)\n",
      "\n",
      "Shape of feature maps:\n",
      "{'conv_output': (1, 24, 254, 254)}\n",
      "\n",
      "***********************************\n",
      "num-group = 3\n",
      "Shape of parameters:\n",
      "data\t(1, 6, 256, 256)\n",
      "conv_weight\t(24, 2, 3, 3)\n",
      "conv_bias\t(24,)\n",
      "\n",
      "Shape of feature maps:\n",
      "{'conv_output': (1, 24, 254, 254)}\n",
      "\n",
      "***********************************\n",
      "num-group = 6\n",
      "Shape of parameters:\n",
      "data\t(1, 6, 256, 256)\n",
      "conv_weight\t(24, 1, 3, 3)\n",
      "conv_bias\t(24,)\n",
      "\n",
      "Shape of feature maps:\n",
      "{'conv_output': (1, 24, 254, 254)}\n",
      "\n",
      "***********************************\n"
     ]
    }
   ],
   "source": [
    "import mxnet as mx\n",
    "\n",
    "def get_symbol(num_group=1):\n",
    "    data = mx.sym.Variable(name='data')\n",
    "    conv = mx.sym.Convolution(data=data, kernel=(3, 3), stride=(1, 1), num_filter=24, num_group=num_group, name='conv')\n",
    "    return conv\n",
    "\n",
    "def infer_output_shape(sym, data_shape):\n",
    "    all_layers = sym.get_internals()\n",
    "    data_shape_dict = dict([('data', data_shape)])\n",
    "    arg_shape, out_shape, aux_shape = sym.infer_shape(**data_shape_dict)\n",
    "    arg_shape_dict = dict(zip(sym.list_arguments(), arg_shape))\n",
    "    aux_shape_dict = dict(zip(sym.list_auxiliary_states(), aux_shape))\n",
    "\n",
    "    # print the shape of parameters\n",
    "    print(\"Shape of parameters:\")\n",
    "    for key in arg_shape_dict.keys():\n",
    "        print('{}\\t{}'.format(key, arg_shape_dict[key]))\n",
    "\n",
    "    # infer the shape of feature maps\n",
    "    print(\"\\nShape of feature maps:\")\n",
    "    for name in all_layers.list_outputs():\n",
    "        if name.find('output') != -1:  # 查找包含 \"output\" 的字符串\n",
    "            arg_shape, out_shape, aux_shape = all_layers[name].infer_shape(**data_shape_dict)\n",
    "            layer_shape_dict = dict(zip(all_layers[name].list_outputs(), out_shape))\n",
    "            print(layer_shape_dict)\n",
    "\n",
    "if __name__ == '__main__':\n",
    "    data_shape = (1, 6, 256, 256)\n",
    "    for num_group in [1, 2, 3, 6]:\n",
    "        print(\"num-group =\", num_group)\n",
    "        sym = get_symbol(num_group)\n",
    "        infer_output_shape(sym, data_shape)\n",
    "        print(\"\\n***********************************\")"
   ]
  },
  {
   "cell_type": "code",
   "execution_count": null,
   "metadata": {
    "collapsed": true
   },
   "outputs": [],
   "source": []
  }
 ],
 "metadata": {
  "kernelspec": {
   "display_name": "Python 3",
   "language": "python",
   "name": "python3"
  },
  "language_info": {
   "codemirror_mode": {
    "name": "ipython",
    "version": 3
   },
   "file_extension": ".py",
   "mimetype": "text/x-python",
   "name": "python",
   "nbconvert_exporter": "python",
   "pygments_lexer": "ipython3",
   "version": "3.6.2"
  },
  "latex_envs": {
   "LaTeX_envs_menu_present": true,
   "autoclose": false,
   "autocomplete": true,
   "bibliofile": "biblio.bib",
   "cite_by": "apalike",
   "current_citInitial": 1,
   "eqLabelWithNumbers": true,
   "eqNumInitial": 1,
   "hotkeys": {
    "equation": "Ctrl-E",
    "itemize": "Ctrl-I"
   },
   "labels_anchors": false,
   "latex_user_defs": false,
   "report_style_numbering": true,
   "user_envs_cfg": false
  },
  "toc": {
   "nav_menu": {
    "height": "107px",
    "width": "224px"
   },
   "number_sections": true,
   "sideBar": true,
   "skip_h1_title": false,
   "toc_cell": true,
   "toc_position": {
    "height": "658px",
    "left": "0px",
    "right": "1369.8px",
    "top": "107px",
    "width": "190px"
   },
   "toc_section_display": "block",
   "toc_window_display": true
  }
 },
 "nbformat": 4,
 "nbformat_minor": 2
}
